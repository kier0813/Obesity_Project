{
 "cells": [
  {
   "cell_type": "markdown",
   "metadata": {},
   "source": [
    "# COGS 108 - Why are Americans Obese?"
   ]
  },
  {
   "cell_type": "markdown",
   "metadata": {},
   "source": [
    "Group video link: https://www.youtube.com/watch?v=CJ7DImrM9rw "
   ]
  },
  {
   "cell_type": "markdown",
   "metadata": {},
   "source": [
    "## Permissions\n",
    "\n",
    "Made available to the public\n",
    "\n",
    "* [X] YES - make available\n",
    "* [] NO - keep private"
   ]
  },
  {
   "cell_type": "markdown",
   "metadata": {},
   "source": [
    "# Overview"
   ]
  },
  {
   "cell_type": "markdown",
   "metadata": {},
   "source": [
    "Driven from the concern of our physical health, we wanted to study further on health data analysis. Therefore, we looked at the obesity rates across all counties in the United States. We began by narrowing it down to the top 100 counties with the highest obesity rate. We then explored the relationship between obesity and the following three factors: income, mental health providers in a county, and the number of people who have long commutes daily. We did this to see if there was any correlation between them. After the comparison of top-ranked counties, we did a linear regression assessment on obesity and these three features. We found that there is a linear relationship between obesity and income, but no significant relationship between obesity and the other two factors. \n",
    "\n",
    "Our report contains high-level information about the dataset, set-up, data cleaning process, EDA, and conclusion. Some of the contents are omitted to improve readability. Detailed work can be found in the Github repository [here](https://github.com/COGS108/Group005Sp22).\n",
    "\n"
   ]
  },
  {
   "cell_type": "markdown",
   "metadata": {},
   "source": [
    "# Names\n",
    "\n",
    "    Joon Cha\n",
    "    Jaida Day\n",
    "    Ayushi Sharma\n",
    "    Yunyi She\n",
    "    Ziyu Wang"
   ]
  },
  {
   "cell_type": "markdown",
   "metadata": {},
   "source": [
    "<a id='research_question'></a>\n",
    "# Research Question"
   ]
  },
  {
   "cell_type": "markdown",
   "metadata": {},
   "source": [
    "How does income, mental health providers, and long commutes affect the obesity rate across United States counties in the year 2019? "
   ]
  },
  {
   "cell_type": "markdown",
   "metadata": {},
   "source": [
    "## Background & Prior Work"
   ]
  },
  {
   "cell_type": "markdown",
   "metadata": {},
   "source": [
    "As college students, we should maintain our health while studying hard. Obesity appears frequently in our life, which is defined as abnormal 'fat accumulation' that presents a higher risk to health by [WHO](https://www.who.int/health-topics/obesity#tab=tab_1)$_1$. As per [Healthline Media](https://www.healthline.com/health/obesity/managing-obesity-health-risks#gallbladderdisease)$_2$, obesity could lead to several health issues such as “type 2 diabetes”, “heart disease”, “high blood pressure”, etc. Also according to [WHO](https://www.who.int/health-topics/obesity#tab=tab_1)$_1$, the issue of obesity has globally grown to epidemic proportions, with over 4 million people dying each year as a result of being overweight or obese in 2017 according to the global burden of disease. Our group considers obesity as one of the most significant health problems in the United States, which is why it is the main topic of our study.\n",
    "\n",
    "Initially, we conducted a preliminary research by talking with our college peers and family members to figure out what they think could lead to obesity. From these dialogues, we found out that there exists an unclear and over-superficial understanding of obesity among people. The majority of people were under a similar impression that unhealthy/oily fast food could lead to obesity. As the report from [CBS](https://www.cbsnews.com/news/junk-food-obesity-epidemic/)$_3$ stated, researchers suggest that junk food is not the only cause of obesity. Our group also thinks that there are several other reasons beyond just having unhealthy food that could lead to obesity across different counties in the US. Additionally, our group wants to find more interesting features that could potentially lead to obesity in the hopes of spreading awareness and hopefully preventing people from risking their lives with obesity.\n",
    "\n",
    "Therefore, we conclude that people’s wealth, mental health, and working conditions (specifically related to time spent on commuting) may also affect obesity, which produces our study question.\n",
    "<br>\n",
    "<br>\n",
    "\n",
    "References:\n",
    "\n",
    "$1.$ “Obesity.” WHO, 21 Feb. 2020, www.who.int/health-topics/obesity#tab=tab_1.\n",
    "\n",
    "$2.$ “Common Health Conditions Related to Obesity.” Healthline, 29 July 2020, www.healthline.com/health/obesity/managing-obesity-health-risks.\n",
    "\n",
    "$3.$ Welch, Ashley. “Is Junk Food to Blame for the Obesity Epidemic?” CBS News, 5 Nov. 2015, www.cbsnews.com/news/junk-food-obesity-epidemic."
   ]
  },
  {
   "cell_type": "markdown",
   "metadata": {},
   "source": [
    "# Hypothesis"
   ]
  },
  {
   "cell_type": "markdown",
   "metadata": {},
   "source": [
    "Null Hypothesis ($H_0$): In 2019, there is no relationship between income, number of health providers, and long commute and obesity in the US Counties.\t\n",
    "\n",
    "Let:\n",
    "\n",
    "x₁ = Income\n",
    "\n",
    "x₂ = Number of mental health providers\n",
    " \n",
    "x₃ = Long commute alone\n",
    "\n",
    "x₁ > x̂₁ <br> \n",
    "x₂ > x̂₂ <br>\n",
    "x₃ < x̂₃\n",
    "\n",
    "Then, obesity rate will be lower than average.\n",
    "\n",
    "Alternative Hypothesis ($H_1$): In 2019, there is a relationship between income, number of mental health providers, long commute and obesity in the US Counties.\t"
   ]
  },
  {
   "cell_type": "markdown",
   "metadata": {},
   "source": [
    "# Dataset(s)"
   ]
  },
  {
   "cell_type": "markdown",
   "metadata": {},
   "source": [
    "Dataset Introduction:\n",
    "\n",
    "- Name: 2019 County Health Rankings CSV Analytic Data <br>\n",
    "- Link to the dataset: https://www.countyhealthrankings.org/explore-health-rankings/rankings-data-documentation/national-data-documentation-2010-2019 <br>\n",
    "- Number of observations: 3193 <br>\n",
    "- Description of data: This data counts the number and percentage of the Unitied States population, by county, who fall under certain factors.\n"
   ]
  },
  {
   "cell_type": "markdown",
   "metadata": {},
   "source": [
    "# Setup"
   ]
  },
  {
   "cell_type": "markdown",
   "metadata": {},
   "source": [
    "Python package import"
   ]
  },
  {
   "cell_type": "code",
   "execution_count": 1,
   "metadata": {},
   "outputs": [],
   "source": [
    "import pandas as pd\n",
    "import numpy as np\n",
    "import seaborn as sns\n",
    "\n",
    "# Statmodels & patsy\n",
    "import patsy\n",
    "import statsmodels.api as sm\n",
    "\n",
    "# import matplotlib for plotting\n",
    "import matplotlib as mpl\n",
    "import matplotlib.pyplot as plt\n",
    "import matplotlib.style as style\n",
    "# set plotting size parameter\n",
    "plt.rcParams['figure.figsize'] = (12, 5)\n",
    "\n",
    "import warnings\n",
    "warnings.filterwarnings('ignore')"
   ]
  },
  {
   "cell_type": "markdown",
   "metadata": {},
   "source": [
    "We downloaded the data from online website [County Health Rankings & Roadmaps](https://www.countyhealthrankings.org/explore-health-rankings), and we imported the data by pandas and display here."
   ]
  },
  {
   "cell_type": "code",
   "execution_count": 2,
   "metadata": {
    "collapsed": true
   },
   "outputs": [
    {
     "data": {
      "text/html": [
       "<div>\n",
       "<style scoped>\n",
       "    .dataframe tbody tr th:only-of-type {\n",
       "        vertical-align: middle;\n",
       "    }\n",
       "\n",
       "    .dataframe tbody tr th {\n",
       "        vertical-align: top;\n",
       "    }\n",
       "\n",
       "    .dataframe thead th {\n",
       "        text-align: right;\n",
       "    }\n",
       "</style>\n",
       "<table border=\"1\" class=\"dataframe\">\n",
       "  <thead>\n",
       "    <tr style=\"text-align: right;\">\n",
       "      <th></th>\n",
       "      <th>State FIPS Code</th>\n",
       "      <th>County FIPS Code</th>\n",
       "      <th>5-digit FIPS Code</th>\n",
       "      <th>State Abbreviation</th>\n",
       "      <th>Name</th>\n",
       "      <th>Release Year</th>\n",
       "      <th>County Ranked (Yes=1/No=0)</th>\n",
       "      <th>Premature death raw value</th>\n",
       "      <th>Premature death numerator</th>\n",
       "      <th>Premature death denominator</th>\n",
       "      <th>...</th>\n",
       "      <th>Male population 18-44 raw value</th>\n",
       "      <th>Male population 45-64 raw value</th>\n",
       "      <th>Male population 65+ raw value</th>\n",
       "      <th>Total male population raw value</th>\n",
       "      <th>Female population 0-17 raw value</th>\n",
       "      <th>Female population 18-44 raw value</th>\n",
       "      <th>Female population 45-64 raw value</th>\n",
       "      <th>Female population 65+ raw value</th>\n",
       "      <th>Total female population raw value</th>\n",
       "      <th>Population growth raw value</th>\n",
       "    </tr>\n",
       "  </thead>\n",
       "  <tbody>\n",
       "    <tr>\n",
       "      <th>0</th>\n",
       "      <td>statecode</td>\n",
       "      <td>countycode</td>\n",
       "      <td>fipscode</td>\n",
       "      <td>state</td>\n",
       "      <td>county</td>\n",
       "      <td>year</td>\n",
       "      <td>county_ranked</td>\n",
       "      <td>v001_rawvalue</td>\n",
       "      <td>v001_numerator</td>\n",
       "      <td>v001_denominator</td>\n",
       "      <td>...</td>\n",
       "      <td>v013_rawvalue</td>\n",
       "      <td>v016_rawvalue</td>\n",
       "      <td>v017_rawvalue</td>\n",
       "      <td>v025_rawvalue</td>\n",
       "      <td>v026_rawvalue</td>\n",
       "      <td>v027_rawvalue</td>\n",
       "      <td>v031_rawvalue</td>\n",
       "      <td>v032_rawvalue</td>\n",
       "      <td>v035_rawvalue</td>\n",
       "      <td>v097_rawvalue</td>\n",
       "    </tr>\n",
       "    <tr>\n",
       "      <th>1</th>\n",
       "      <td>00</td>\n",
       "      <td>000</td>\n",
       "      <td>00000</td>\n",
       "      <td>US</td>\n",
       "      <td>United States</td>\n",
       "      <td>2019</td>\n",
       "      <td>NaN</td>\n",
       "      <td>6900.630354</td>\n",
       "      <td>3745538</td>\n",
       "      <td>908266078</td>\n",
       "      <td>...</td>\n",
       "      <td>NaN</td>\n",
       "      <td>NaN</td>\n",
       "      <td>NaN</td>\n",
       "      <td>NaN</td>\n",
       "      <td>NaN</td>\n",
       "      <td>NaN</td>\n",
       "      <td>NaN</td>\n",
       "      <td>NaN</td>\n",
       "      <td>NaN</td>\n",
       "      <td>NaN</td>\n",
       "    </tr>\n",
       "    <tr>\n",
       "      <th>2</th>\n",
       "      <td>01</td>\n",
       "      <td>000</td>\n",
       "      <td>01000</td>\n",
       "      <td>AL</td>\n",
       "      <td>Alabama</td>\n",
       "      <td>2019</td>\n",
       "      <td>NaN</td>\n",
       "      <td>9917.2328984</td>\n",
       "      <td>80440</td>\n",
       "      <td>13636816</td>\n",
       "      <td>...</td>\n",
       "      <td>NaN</td>\n",
       "      <td>NaN</td>\n",
       "      <td>NaN</td>\n",
       "      <td>NaN</td>\n",
       "      <td>NaN</td>\n",
       "      <td>NaN</td>\n",
       "      <td>NaN</td>\n",
       "      <td>NaN</td>\n",
       "      <td>NaN</td>\n",
       "      <td>NaN</td>\n",
       "    </tr>\n",
       "    <tr>\n",
       "      <th>3</th>\n",
       "      <td>01</td>\n",
       "      <td>001</td>\n",
       "      <td>01001</td>\n",
       "      <td>AL</td>\n",
       "      <td>Autauga County</td>\n",
       "      <td>2019</td>\n",
       "      <td>1</td>\n",
       "      <td>8824.0571232</td>\n",
       "      <td>815</td>\n",
       "      <td>156132</td>\n",
       "      <td>...</td>\n",
       "      <td>NaN</td>\n",
       "      <td>NaN</td>\n",
       "      <td>NaN</td>\n",
       "      <td>NaN</td>\n",
       "      <td>NaN</td>\n",
       "      <td>NaN</td>\n",
       "      <td>NaN</td>\n",
       "      <td>NaN</td>\n",
       "      <td>NaN</td>\n",
       "      <td>NaN</td>\n",
       "    </tr>\n",
       "    <tr>\n",
       "      <th>4</th>\n",
       "      <td>01</td>\n",
       "      <td>003</td>\n",
       "      <td>01003</td>\n",
       "      <td>AL</td>\n",
       "      <td>Baldwin County</td>\n",
       "      <td>2019</td>\n",
       "      <td>1</td>\n",
       "      <td>7224.6321603</td>\n",
       "      <td>2827</td>\n",
       "      <td>576496</td>\n",
       "      <td>...</td>\n",
       "      <td>NaN</td>\n",
       "      <td>NaN</td>\n",
       "      <td>NaN</td>\n",
       "      <td>NaN</td>\n",
       "      <td>NaN</td>\n",
       "      <td>NaN</td>\n",
       "      <td>NaN</td>\n",
       "      <td>NaN</td>\n",
       "      <td>NaN</td>\n",
       "      <td>NaN</td>\n",
       "    </tr>\n",
       "  </tbody>\n",
       "</table>\n",
       "<p>5 rows × 534 columns</p>\n",
       "</div>"
      ],
      "text/plain": [
       "  State FIPS Code County FIPS Code 5-digit FIPS Code State Abbreviation  \\\n",
       "0       statecode       countycode          fipscode              state   \n",
       "1              00              000             00000                 US   \n",
       "2              01              000             01000                 AL   \n",
       "3              01              001             01001                 AL   \n",
       "4              01              003             01003                 AL   \n",
       "\n",
       "             Name Release Year County Ranked (Yes=1/No=0)  \\\n",
       "0          county         year              county_ranked   \n",
       "1   United States         2019                        NaN   \n",
       "2         Alabama         2019                        NaN   \n",
       "3  Autauga County         2019                          1   \n",
       "4  Baldwin County         2019                          1   \n",
       "\n",
       "  Premature death raw value Premature death numerator  \\\n",
       "0             v001_rawvalue            v001_numerator   \n",
       "1               6900.630354                   3745538   \n",
       "2              9917.2328984                     80440   \n",
       "3              8824.0571232                       815   \n",
       "4              7224.6321603                      2827   \n",
       "\n",
       "  Premature death denominator  ... Male population 18-44 raw value  \\\n",
       "0            v001_denominator  ...                   v013_rawvalue   \n",
       "1                   908266078  ...                             NaN   \n",
       "2                    13636816  ...                             NaN   \n",
       "3                      156132  ...                             NaN   \n",
       "4                      576496  ...                             NaN   \n",
       "\n",
       "  Male population 45-64 raw value Male population 65+ raw value  \\\n",
       "0                   v016_rawvalue                 v017_rawvalue   \n",
       "1                             NaN                           NaN   \n",
       "2                             NaN                           NaN   \n",
       "3                             NaN                           NaN   \n",
       "4                             NaN                           NaN   \n",
       "\n",
       "  Total male population raw value Female population 0-17 raw value  \\\n",
       "0                   v025_rawvalue                    v026_rawvalue   \n",
       "1                             NaN                              NaN   \n",
       "2                             NaN                              NaN   \n",
       "3                             NaN                              NaN   \n",
       "4                             NaN                              NaN   \n",
       "\n",
       "  Female population 18-44 raw value Female population 45-64 raw value  \\\n",
       "0                     v027_rawvalue                     v031_rawvalue   \n",
       "1                               NaN                               NaN   \n",
       "2                               NaN                               NaN   \n",
       "3                               NaN                               NaN   \n",
       "4                               NaN                               NaN   \n",
       "\n",
       "  Female population 65+ raw value Total female population raw value  \\\n",
       "0                   v032_rawvalue                     v035_rawvalue   \n",
       "1                             NaN                               NaN   \n",
       "2                             NaN                               NaN   \n",
       "3                             NaN                               NaN   \n",
       "4                             NaN                               NaN   \n",
       "\n",
       "  Population growth raw value  \n",
       "0               v097_rawvalue  \n",
       "1                         NaN  \n",
       "2                         NaN  \n",
       "3                         NaN  \n",
       "4                         NaN  \n",
       "\n",
       "[5 rows x 534 columns]"
      ]
     },
     "execution_count": 2,
     "metadata": {},
     "output_type": "execute_result"
    }
   ],
   "source": [
    "df = pd.read_csv(\"2019.csv\", low_memory=False)\n",
    "df.head()"
   ]
  },
  {
   "cell_type": "markdown",
   "metadata": {},
   "source": [
    "# Data Cleaning"
   ]
  },
  {
   "cell_type": "markdown",
   "metadata": {},
   "source": [
    "We found that our data is relatively clean, so we decicided to simplify the contents and labels furthermore."
   ]
  },
  {
   "cell_type": "code",
   "execution_count": 3,
   "metadata": {},
   "outputs": [],
   "source": [
    "# drop rows description\n",
    "df = df.drop([0])\n",
    "\n",
    "# select relevant columns\n",
    "col_str = \"State Abbreviation,County FIPS Code,Name,Mental health providers raw value,\\\n",
    "Mental health providers denominator,Long commute - driving alone raw value,\\\n",
    "Long commute - driving alone denominator,Median household income raw value,\\\n",
    "Adult obesity raw value,Adult obesity denominator\"\n",
    "col_lst = col_str.split(\",\")\n",
    "df = df[col_lst]\n",
    "\n",
    "# Rename those long columns names in the dataset and change all columns name into lower case.\n",
    "new_col_lst = ['state','code','county','mental_health','mental_health_total','long_commute','long_commute_total','income','obesity','obesity_total']\n",
    "df = df.rename(columns = dict(zip(list(df.columns),new_col_lst)))"
   ]
  },
  {
   "cell_type": "markdown",
   "metadata": {},
   "source": [
    "This data counts the percentage and total count of the population, by county, who fall under the following factors: obesity rate, their income, if they have mental health providers, and if they have a long commute alone. Now, the dataframe has been set up, and we will process further cleaning about numerical values."
   ]
  },
  {
   "cell_type": "code",
   "execution_count": 4,
   "metadata": {},
   "outputs": [
    {
     "data": {
      "text/plain": [
       "True"
      ]
     },
     "execution_count": 4,
     "metadata": {},
     "output_type": "execute_result"
    }
   ],
   "source": [
    "# We discard all rows that contain data from state.\n",
    "# '000' represents the state version data\n",
    "df = df.loc[df['code'] != '000']\n",
    "'000' not in list(df.code)"
   ]
  },
  {
   "cell_type": "code",
   "execution_count": 5,
   "metadata": {},
   "outputs": [
    {
     "data": {
      "text/plain": [
       "state                  False\n",
       "code                   False\n",
       "county                 False\n",
       "mental_health           True\n",
       "mental_health_total    False\n",
       "long_commute           False\n",
       "long_commute_total     False\n",
       "income                  True\n",
       "obesity                False\n",
       "obesity_total          False\n",
       "dtype: bool"
      ]
     },
     "execution_count": 5,
     "metadata": {},
     "output_type": "execute_result"
    }
   ],
   "source": [
    "# Check missingness for the dataset\n",
    "df.isnull().any()"
   ]
  },
  {
   "cell_type": "markdown",
   "metadata": {},
   "source": [
    "We can find that there exist null values in the columns **mental_health** and **income**, therefore we drop null cells from the dataset."
   ]
  },
  {
   "cell_type": "code",
   "execution_count": 6,
   "metadata": {},
   "outputs": [
    {
     "data": {
      "text/plain": [
       "0"
      ]
     },
     "execution_count": 6,
     "metadata": {},
     "output_type": "execute_result"
    }
   ],
   "source": [
    "df_clean = df.dropna()\n",
    "df_clean.isnull().sum().sum()"
   ]
  },
  {
   "cell_type": "code",
   "execution_count": 7,
   "metadata": {
    "collapsed": true
   },
   "outputs": [
    {
     "data": {
      "text/html": [
       "<div>\n",
       "<style scoped>\n",
       "    .dataframe tbody tr th:only-of-type {\n",
       "        vertical-align: middle;\n",
       "    }\n",
       "\n",
       "    .dataframe tbody tr th {\n",
       "        vertical-align: top;\n",
       "    }\n",
       "\n",
       "    .dataframe thead th {\n",
       "        text-align: right;\n",
       "    }\n",
       "</style>\n",
       "<table border=\"1\" class=\"dataframe\">\n",
       "  <thead>\n",
       "    <tr style=\"text-align: right;\">\n",
       "      <th></th>\n",
       "      <th>state</th>\n",
       "      <th>code</th>\n",
       "      <th>county</th>\n",
       "      <th>mental_health</th>\n",
       "      <th>mental_health_total</th>\n",
       "      <th>long_commute</th>\n",
       "      <th>long_commute_total</th>\n",
       "      <th>income</th>\n",
       "      <th>obesity</th>\n",
       "      <th>obesity_total</th>\n",
       "    </tr>\n",
       "  </thead>\n",
       "  <tbody>\n",
       "    <tr>\n",
       "      <th>0</th>\n",
       "      <td>AL</td>\n",
       "      <td>001</td>\n",
       "      <td>Autauga County</td>\n",
       "      <td>0.0001621505</td>\n",
       "      <td>55504</td>\n",
       "      <td>0.383</td>\n",
       "      <td>20911</td>\n",
       "      <td>58343</td>\n",
       "      <td>0.375</td>\n",
       "      <td>40181.333333</td>\n",
       "    </tr>\n",
       "    <tr>\n",
       "      <th>1</th>\n",
       "      <td>AL</td>\n",
       "      <td>003</td>\n",
       "      <td>Baldwin County</td>\n",
       "      <td>0.0009123916</td>\n",
       "      <td>212628</td>\n",
       "      <td>0.405</td>\n",
       "      <td>74415</td>\n",
       "      <td>56607</td>\n",
       "      <td>0.31</td>\n",
       "      <td>154712.90323</td>\n",
       "    </tr>\n",
       "    <tr>\n",
       "      <th>2</th>\n",
       "      <td>AL</td>\n",
       "      <td>005</td>\n",
       "      <td>Barbour County</td>\n",
       "      <td>0.0000791452</td>\n",
       "      <td>25270</td>\n",
       "      <td>0.338</td>\n",
       "      <td>7242</td>\n",
       "      <td>32490</td>\n",
       "      <td>0.443</td>\n",
       "      <td>20158.013544</td>\n",
       "    </tr>\n",
       "    <tr>\n",
       "      <th>3</th>\n",
       "      <td>AL</td>\n",
       "      <td>007</td>\n",
       "      <td>Bibb County</td>\n",
       "      <td>0.0000882301</td>\n",
       "      <td>22668</td>\n",
       "      <td>0.486</td>\n",
       "      <td>6930</td>\n",
       "      <td>45795</td>\n",
       "      <td>0.378</td>\n",
       "      <td>17412.698413</td>\n",
       "    </tr>\n",
       "    <tr>\n",
       "      <th>4</th>\n",
       "      <td>AL</td>\n",
       "      <td>009</td>\n",
       "      <td>Blount County</td>\n",
       "      <td>0.0001034251</td>\n",
       "      <td>58013</td>\n",
       "      <td>0.597</td>\n",
       "      <td>18426</td>\n",
       "      <td>48253</td>\n",
       "      <td>0.344</td>\n",
       "      <td>42965.116279</td>\n",
       "    </tr>\n",
       "  </tbody>\n",
       "</table>\n",
       "</div>"
      ],
      "text/plain": [
       "  state code          county mental_health mental_health_total long_commute  \\\n",
       "0    AL  001  Autauga County  0.0001621505               55504        0.383   \n",
       "1    AL  003  Baldwin County  0.0009123916              212628        0.405   \n",
       "2    AL  005  Barbour County  0.0000791452               25270        0.338   \n",
       "3    AL  007     Bibb County  0.0000882301               22668        0.486   \n",
       "4    AL  009   Blount County  0.0001034251               58013        0.597   \n",
       "\n",
       "  long_commute_total income obesity obesity_total  \n",
       "0              20911  58343   0.375  40181.333333  \n",
       "1              74415  56607    0.31  154712.90323  \n",
       "2               7242  32490   0.443  20158.013544  \n",
       "3               6930  45795   0.378  17412.698413  \n",
       "4              18426  48253   0.344  42965.116279  "
      ]
     },
     "execution_count": 7,
     "metadata": {},
     "output_type": "execute_result"
    }
   ],
   "source": [
    "# Reset index for df_clean\n",
    "df_clean.reset_index(inplace=True)\n",
    "df_clean = df_clean.drop(['index'], axis=1)\n",
    "df_clean.head()"
   ]
  },
  {
   "cell_type": "markdown",
   "metadata": {},
   "source": [
    "Now, there is no missingness in our data."
   ]
  },
  {
   "cell_type": "markdown",
   "metadata": {},
   "source": [
    "Note: We could not find the total number of data collected for **income**. We ar not sure about the reason. Two group memebers went throught other similar reports on the same data source website. They found that there hardly exists any clue for the missing total stats for income. We guess that something happened during the data collection of income or not EVERY people who has income have been recorded.For now, it is still unknown."
   ]
  },
  {
   "cell_type": "markdown",
   "metadata": {},
   "source": [
    "# Data Analysis & Results (EDA)"
   ]
  },
  {
   "cell_type": "markdown",
   "metadata": {},
   "source": [
    "## Descriptive Analysis"
   ]
  },
  {
   "cell_type": "markdown",
   "metadata": {},
   "source": [
    "Some of the data are not in the correct numerical type. We want to make sure that numerical feature are tranfered with the correct data type. So the cell below did all the job to transform our dataframe into a best form one."
   ]
  },
  {
   "cell_type": "code",
   "execution_count": 8,
   "metadata": {
    "scrolled": false
   },
   "outputs": [
    {
     "data": {
      "text/html": [
       "<div>\n",
       "<style scoped>\n",
       "    .dataframe tbody tr th:only-of-type {\n",
       "        vertical-align: middle;\n",
       "    }\n",
       "\n",
       "    .dataframe tbody tr th {\n",
       "        vertical-align: top;\n",
       "    }\n",
       "\n",
       "    .dataframe thead th {\n",
       "        text-align: right;\n",
       "    }\n",
       "</style>\n",
       "<table border=\"1\" class=\"dataframe\">\n",
       "  <thead>\n",
       "    <tr style=\"text-align: right;\">\n",
       "      <th></th>\n",
       "      <th>mental_health</th>\n",
       "      <th>mental_health_total</th>\n",
       "      <th>long_commute</th>\n",
       "      <th>long_commute_total</th>\n",
       "      <th>income</th>\n",
       "      <th>obesity</th>\n",
       "      <th>obesity_total</th>\n",
       "    </tr>\n",
       "  </thead>\n",
       "  <tbody>\n",
       "    <tr>\n",
       "      <th>count</th>\n",
       "      <td>2889.000000</td>\n",
       "      <td>2889.000000</td>\n",
       "      <td>2889.000000</td>\n",
       "      <td>2889.000000</td>\n",
       "      <td>2889.000000</td>\n",
       "      <td>2889.000000</td>\n",
       "      <td>2889.000000</td>\n",
       "    </tr>\n",
       "    <tr>\n",
       "      <th>mean</th>\n",
       "      <td>0.001500</td>\n",
       "      <td>112281.597785</td>\n",
       "      <td>0.310970</td>\n",
       "      <td>39121.888889</td>\n",
       "      <td>51483.342333</td>\n",
       "      <td>0.320775</td>\n",
       "      <td>82324.183454</td>\n",
       "    </tr>\n",
       "    <tr>\n",
       "      <th>std</th>\n",
       "      <td>0.001610</td>\n",
       "      <td>346000.245235</td>\n",
       "      <td>0.123642</td>\n",
       "      <td>117138.633858</td>\n",
       "      <td>13730.748042</td>\n",
       "      <td>0.046582</td>\n",
       "      <td>253453.230699</td>\n",
       "    </tr>\n",
       "    <tr>\n",
       "      <th>min</th>\n",
       "      <td>0.000000</td>\n",
       "      <td>134.000000</td>\n",
       "      <td>0.000000</td>\n",
       "      <td>28.000000</td>\n",
       "      <td>22679.000000</td>\n",
       "      <td>0.136000</td>\n",
       "      <td>69.000000</td>\n",
       "    </tr>\n",
       "    <tr>\n",
       "      <th>25%</th>\n",
       "      <td>0.000446</td>\n",
       "      <td>13801.000000</td>\n",
       "      <td>0.217000</td>\n",
       "      <td>4405.000000</td>\n",
       "      <td>42464.000000</td>\n",
       "      <td>0.293000</td>\n",
       "      <td>10466.000000</td>\n",
       "    </tr>\n",
       "  </tbody>\n",
       "</table>\n",
       "</div>"
      ],
      "text/plain": [
       "       mental_health  mental_health_total  long_commute  long_commute_total  \\\n",
       "count    2889.000000          2889.000000   2889.000000         2889.000000   \n",
       "mean        0.001500        112281.597785      0.310970        39121.888889   \n",
       "std         0.001610        346000.245235      0.123642       117138.633858   \n",
       "min         0.000000           134.000000      0.000000           28.000000   \n",
       "25%         0.000446         13801.000000      0.217000         4405.000000   \n",
       "\n",
       "             income      obesity  obesity_total  \n",
       "count   2889.000000  2889.000000    2889.000000  \n",
       "mean   51483.342333     0.320775   82324.183454  \n",
       "std    13730.748042     0.046582  253453.230699  \n",
       "min    22679.000000     0.136000      69.000000  \n",
       "25%    42464.000000     0.293000   10466.000000  "
      ]
     },
     "execution_count": 8,
     "metadata": {},
     "output_type": "execute_result"
    }
   ],
   "source": [
    "# Changing the values into floats\n",
    "lst_float = [\"income\", \"obesity\", \"long_commute\", \"mental_health\"]\n",
    "\n",
    "for i in lst_float:\n",
    "    df_clean[i] = df_clean[i].astype(float)\n",
    "\n",
    "# Changing the values into integers\n",
    "lst_int = [\"mental_health_total\", \"long_commute_total\"]\n",
    "\n",
    "for i in lst_int:\n",
    "    df_clean[i] = df_clean[i].astype(int)\n",
    "\n",
    "# change population into integer\n",
    "df_clean[\"obesity_total\"] = df_clean[\"obesity_total\"].astype(float).astype(int) \n",
    "\n",
    "# Statstical values for the dataset\n",
    "df_clean.describe().head()"
   ]
  },
  {
   "cell_type": "markdown",
   "metadata": {},
   "source": [
    "First, take a look at our target feature: obesity."
   ]
  },
  {
   "cell_type": "code",
   "execution_count": 26,
   "metadata": {
    "collapsed": true
   },
   "outputs": [
    {
     "data": {
      "image/png": "[encoded data removed]",
      "text/plain": [
       "<Figure size 432x288 with 1 Axes>"
      ]
     },
     "metadata": {},
     "output_type": "display_data"
    }
   ],
   "source": [
    "sns.boxplot(x=\"obesity\", color='#96CDCD',linewidth=2, data=df_clean)\n",
    "sns.set(rc = {'figure.figsize':(3,2)})"
   ]
  },
  {
   "cell_type": "markdown",
   "metadata": {},
   "source": [
    "Obesity centered around 0.33.\n",
    "\n",
    "Now, let's take a look at general distibution in a distplot."
   ]
  },
  {
   "cell_type": "code",
   "execution_count": 10,
   "metadata": {
    "scrolled": false
   },
   "outputs": [
    {
     "data": {
      "image/png": "[encoded data removed]",
      "text/plain": [
       "<Figure size 216x144 with 1 Axes>"
      ]
     },
     "metadata": {},
     "output_type": "display_data"
    }
   ],
   "source": [
    "sns.distplot(x=df_clean.obesity, color='#7CA8CD',kde=True,bins=60)\n",
    "sns.set(rc = {'figure.figsize':(8,4)})"
   ]
  },
  {
   "cell_type": "markdown",
   "metadata": {},
   "source": [
    "##  EDA: Exploratory Data Analysis\n",
    "\n"
   ]
  },
  {
   "cell_type": "markdown",
   "metadata": {},
   "source": [
    "Since the purpose is to explore obesity across counties, we think it is necessary to carry out analysis on state-wise features. So, we groupby state into new dataframe to see some relationship by each states. (Note: there may be some missing counties in state, so we don't consider the total/min/max values for state-wise data."
   ]
  },
  {
   "cell_type": "code",
   "execution_count": 11,
   "metadata": {
    "collapsed": true
   },
   "outputs": [
    {
     "data": {
      "text/html": [
       "<div>\n",
       "<style scoped>\n",
       "    .dataframe tbody tr th:only-of-type {\n",
       "        vertical-align: middle;\n",
       "    }\n",
       "\n",
       "    .dataframe tbody tr th {\n",
       "        vertical-align: top;\n",
       "    }\n",
       "\n",
       "    .dataframe thead th {\n",
       "        text-align: right;\n",
       "    }\n",
       "</style>\n",
       "<table border=\"1\" class=\"dataframe\">\n",
       "  <thead>\n",
       "    <tr style=\"text-align: right;\">\n",
       "      <th></th>\n",
       "      <th>mental_health</th>\n",
       "      <th>mental_health_total</th>\n",
       "      <th>long_commute</th>\n",
       "      <th>long_commute_total</th>\n",
       "      <th>income</th>\n",
       "      <th>obesity</th>\n",
       "      <th>obesity_total</th>\n",
       "    </tr>\n",
       "  </thead>\n",
       "  <tbody>\n",
       "    <tr>\n",
       "      <th>count</th>\n",
       "      <td>51.000000</td>\n",
       "      <td>51.000000</td>\n",
       "      <td>51.000000</td>\n",
       "      <td>51.000000</td>\n",
       "      <td>51.000000</td>\n",
       "      <td>51.000000</td>\n",
       "      <td>51.000000</td>\n",
       "    </tr>\n",
       "    <tr>\n",
       "      <th>mean</th>\n",
       "      <td>0.001985</td>\n",
       "      <td>157894.021438</td>\n",
       "      <td>0.307822</td>\n",
       "      <td>52827.935662</td>\n",
       "      <td>55205.953795</td>\n",
       "      <td>0.308420</td>\n",
       "      <td>117125.195749</td>\n",
       "    </tr>\n",
       "    <tr>\n",
       "      <th>std</th>\n",
       "      <td>0.001183</td>\n",
       "      <td>166855.302689</td>\n",
       "      <td>0.074675</td>\n",
       "      <td>50916.777538</td>\n",
       "      <td>10279.190872</td>\n",
       "      <td>0.039999</td>\n",
       "      <td>124975.970549</td>\n",
       "    </tr>\n",
       "    <tr>\n",
       "      <th>min</th>\n",
       "      <td>0.000535</td>\n",
       "      <td>19581.825000</td>\n",
       "      <td>0.056714</td>\n",
       "      <td>7631.083333</td>\n",
       "      <td>39210.689189</td>\n",
       "      <td>0.216383</td>\n",
       "      <td>13980.625000</td>\n",
       "    </tr>\n",
       "    <tr>\n",
       "      <th>25%</th>\n",
       "      <td>0.001159</td>\n",
       "      <td>43446.471429</td>\n",
       "      <td>0.257016</td>\n",
       "      <td>16030.200000</td>\n",
       "      <td>47215.031313</td>\n",
       "      <td>0.280730</td>\n",
       "      <td>32773.971429</td>\n",
       "    </tr>\n",
       "    <tr>\n",
       "      <th>50%</th>\n",
       "      <td>0.001522</td>\n",
       "      <td>83494.187500</td>\n",
       "      <td>0.323207</td>\n",
       "      <td>33363.028571</td>\n",
       "      <td>54113.876404</td>\n",
       "      <td>0.307143</td>\n",
       "      <td>64974.750000</td>\n",
       "    </tr>\n",
       "    <tr>\n",
       "      <th>75%</th>\n",
       "      <td>0.002557</td>\n",
       "      <td>190509.132032</td>\n",
       "      <td>0.355567</td>\n",
       "      <td>66412.471549</td>\n",
       "      <td>59963.768750</td>\n",
       "      <td>0.334943</td>\n",
       "      <td>141722.279755</td>\n",
       "    </tr>\n",
       "    <tr>\n",
       "      <th>max</th>\n",
       "      <td>0.005957</td>\n",
       "      <td>693972.000000</td>\n",
       "      <td>0.473000</td>\n",
       "      <td>223284.258621</td>\n",
       "      <td>80153.000000</td>\n",
       "      <td>0.378973</td>\n",
       "      <td>530757.000000</td>\n",
       "    </tr>\n",
       "  </tbody>\n",
       "</table>\n",
       "</div>"
      ],
      "text/plain": [
       "       mental_health  mental_health_total  long_commute  long_commute_total  \\\n",
       "count      51.000000            51.000000     51.000000           51.000000   \n",
       "mean        0.001985        157894.021438      0.307822        52827.935662   \n",
       "std         0.001183        166855.302689      0.074675        50916.777538   \n",
       "min         0.000535         19581.825000      0.056714         7631.083333   \n",
       "25%         0.001159         43446.471429      0.257016        16030.200000   \n",
       "50%         0.001522         83494.187500      0.323207        33363.028571   \n",
       "75%         0.002557        190509.132032      0.355567        66412.471549   \n",
       "max         0.005957        693972.000000      0.473000       223284.258621   \n",
       "\n",
       "             income    obesity  obesity_total  \n",
       "count     51.000000  51.000000      51.000000  \n",
       "mean   55205.953795   0.308420  117125.195749  \n",
       "std    10279.190872   0.039999  124975.970549  \n",
       "min    39210.689189   0.216383   13980.625000  \n",
       "25%    47215.031313   0.280730   32773.971429  \n",
       "50%    54113.876404   0.307143   64974.750000  \n",
       "75%    59963.768750   0.334943  141722.279755  \n",
       "max    80153.000000   0.378973  530757.000000  "
      ]
     },
     "execution_count": 11,
     "metadata": {},
     "output_type": "execute_result"
    }
   ],
   "source": [
    "# State counts with obesity\n",
    "all_state = pd.DataFrame(df_clean.groupby(\"state\").mean().sort_values('obesity',ascending=False)).reset_index()\n",
    "all_state.describe()"
   ]
  },
  {
   "cell_type": "code",
   "execution_count": 12,
   "metadata": {
    "scrolled": true
   },
   "outputs": [
    {
     "data": {
      "image/png": "[encoded data removed]",
      "text/plain": [
       "<Figure size 576x288 with 1 Axes>"
      ]
     },
     "metadata": {},
     "output_type": "display_data"
    }
   ],
   "source": [
    "# Plot obesity of states\n",
    "sns.histplot(data = all_state[\"obesity\"], bins = 12, color='#8B7B8B')\n",
    "sns.set(rc = {'figure.figsize':(6,3)})"
   ]
  },
  {
   "cell_type": "markdown",
   "metadata": {},
   "source": [
    "From this histogram distribution, we can find that most mean value of states are clustered around 0.28-0.33 when there are some low-value and high-value states.We want to check other features by state."
   ]
  },
  {
   "cell_type": "markdown",
   "metadata": {},
   "source": [
    "Let's take a look at the state with max & min average value of obesity."
   ]
  },
  {
   "cell_type": "code",
   "execution_count": 13,
   "metadata": {},
   "outputs": [
    {
     "data": {
      "text/plain": [
       "('MS', 0.378972972972973)"
      ]
     },
     "execution_count": 13,
     "metadata": {},
     "output_type": "execute_result"
    }
   ],
   "source": [
    "# state with max mean obesity\n",
    "(all_state.iloc[0][0], all_state.iloc[0][-2])"
   ]
  },
  {
   "cell_type": "code",
   "execution_count": 14,
   "metadata": {},
   "outputs": [
    {
     "data": {
      "text/plain": [
       "('CO', 0.21638333333333334)"
      ]
     },
     "execution_count": 14,
     "metadata": {},
     "output_type": "execute_result"
    }
   ],
   "source": [
    "# state with min mean obesity\n",
    "(all_state.iloc[-1][0], all_state.iloc[-1][-2])"
   ]
  },
  {
   "cell_type": "markdown",
   "metadata": {},
   "source": [
    "These two numbers have a solid difference, which mean people in Colorado is about 16% less than people in Mississippi. An interesting discovery. Now, we want to look at the counties in these 2 states, and then plot features by two states."
   ]
  },
  {
   "cell_type": "code",
   "execution_count": 15,
   "metadata": {},
   "outputs": [
    {
     "data": {
      "text/plain": [
       "array(['CO', 'MS'], dtype=object)"
      ]
     },
     "execution_count": 15,
     "metadata": {},
     "output_type": "execute_result"
    }
   ],
   "source": [
    "max_min_county = df_clean[(df_clean['state'] == 'MS') | (df_clean['state'] == 'CO')]\n",
    "max_min_county.state.unique()"
   ]
  },
  {
   "cell_type": "code",
   "execution_count": 16,
   "metadata": {
    "scrolled": false
   },
   "outputs": [
    {
     "data": {
      "text/plain": [
       "<AxesSubplot:xlabel='code', ylabel='obesity'>"
      ]
     },
     "execution_count": 16,
     "metadata": {},
     "output_type": "execute_result"
    },
    {
     "data": {
      "image/png": "[encoded data removed]",
      "text/plain": [
       "<Figure size 432x216 with 1 Axes>"
      ]
     },
     "metadata": {},
     "output_type": "display_data"
    }
   ],
   "source": [
    "f1 = sns.lineplot(y='obesity', hue='state', x='code',data=max_min_county, sizes = [3])\n",
    "f1.set(xticklabels=[])\n",
    "f1"
   ]
  },
  {
   "cell_type": "code",
   "execution_count": 17,
   "metadata": {},
   "outputs": [
    {
     "data": {
      "text/plain": [
       "<AxesSubplot:xlabel='county', ylabel='obesity'>"
      ]
     },
     "execution_count": 17,
     "metadata": {},
     "output_type": "execute_result"
    },
    {
     "data": {
      "image/png": "[encoded data removed]",
      "text/plain": [
       "<Figure size 432x288 with 1 Axes>"
      ]
     },
     "metadata": {},
     "output_type": "display_data"
    }
   ],
   "source": [
    "# Top 100 County with high obesity\n",
    "top_hundred_county = df_clean.groupby(\"county\")[\"obesity\"].mean().sort_values(ascending=False)[:100]\n",
    "top_hundred_county_df = pd.DataFrame(top_hundred_county).reset_index()\n",
    "sns.set(rc = {'figure.figsize':(6,4)})\n",
    "graph = sns.lineplot(x = \"county\", y = \"obesity\", data = top_hundred_county_df)\n",
    "graph.set(xticklabels=[])\n",
    "graph"
   ]
  },
  {
   "cell_type": "markdown",
   "metadata": {},
   "source": [
    "From the graph of top 100 counties with obesity, we can find that high values drop from 0.47 to 0.42 quickly, which has a steeper slope in top 20. We want to explore the difference among counties with high values and low values."
   ]
  },
  {
   "cell_type": "markdown",
   "metadata": {},
   "source": [
    "First, let's take a look at high range and low range of obesity in counties(top 100, bottom 100). The ranges are:"
   ]
  },
  {
   "cell_type": "code",
   "execution_count": 18,
   "metadata": {},
   "outputs": [
    {
     "name": "stdout",
     "output_type": "stream",
     "text": [
      "Top 100 range:    0.495 - 0.398\n",
      "Bottom 100 range: 0.226 - 0.136\n"
     ]
    }
   ],
   "source": [
    "# top 100 dataframe, bottom 100 dataframe\n",
    "top_hundred = df_clean.sort_values(by=[\"obesity\"], ascending=False)[:100]\n",
    "print(\"Top 100 range:   \", top_hundred.obesity.iloc[0], '-', top_hundred.obesity.iloc[-1])\n",
    "bottom_hundred = df_clean.sort_values(by=[\"obesity\"], ascending=False).tail(100)\n",
    "print(\"Bottom 100 range:\", bottom_hundred.obesity.iloc[0],'-',bottom_hundred.obesity.iloc[-1])"
   ]
  },
  {
   "cell_type": "markdown",
   "metadata": {},
   "source": [
    "The difference exists, so we want to plot some of features in these two dataframes."
   ]
  },
  {
   "cell_type": "markdown",
   "metadata": {},
   "source": [
    "Next, we need to make graphs comparing the top 100 obesity to the top 100 obesity's income, mental health, and long commute to see if there's a trend in connection with obesity.\n",
    "\n",
    "Here, it is shown that people who have a higher income, are not in the higher obesity range at all. Therefore, having a higher income seems to lower the risk of being obese."
   ]
  },
  {
   "cell_type": "code",
   "execution_count": 19,
   "metadata": {
    "collapsed": true
   },
   "outputs": [
    {
     "data": {
      "text/plain": [
       "<Figure size 576x432 with 0 Axes>"
      ]
     },
     "execution_count": 19,
     "metadata": {},
     "output_type": "execute_result"
    },
    {
     "data": {
      "image/png": "[encoded data removed]",
      "text/plain": [
       "<Figure size 432x288 with 1 Axes>"
      ]
     },
     "metadata": {},
     "output_type": "display_data"
    },
    {
     "data": {
      "text/plain": [
       "<Figure size 576x432 with 0 Axes>"
      ]
     },
     "metadata": {},
     "output_type": "display_data"
    }
   ],
   "source": [
    "#seeing the affects of income on obesity\n",
    "plt.scatter(top_hundred['obesity'], top_hundred['income'], label='income', color=\"red\")\n",
    "plt.xlabel('obesity rate')\n",
    "plt.ylabel('income amount')\n",
    "plt.figure(figsize=(8, 6))"
   ]
  },
  {
   "cell_type": "markdown",
   "metadata": {},
   "source": [
    "Next, we compare obesity rates to mental health provider rates. It is shown that if the county has mental health providers available, the rate of obesity is low. However, we noticed that there are not a lot of mental health providers overall so there isn't much to compare to obesity. Therefore, there is not too much of a direct relationship."
   ]
  },
  {
   "cell_type": "code",
   "execution_count": 20,
   "metadata": {
    "collapsed": true
   },
   "outputs": [
    {
     "data": {
      "text/plain": [
       "<Figure size 576x432 with 0 Axes>"
      ]
     },
     "execution_count": 20,
     "metadata": {},
     "output_type": "execute_result"
    },
    {
     "data": {
      "image/png": "[encoded data removed]",
      "text/plain": [
       "<Figure size 432x288 with 1 Axes>"
      ]
     },
     "metadata": {},
     "output_type": "display_data"
    },
    {
     "data": {
      "text/plain": [
       "<Figure size 576x432 with 0 Axes>"
      ]
     },
     "metadata": {},
     "output_type": "display_data"
    }
   ],
   "source": [
    "#seeing the affects of mental health providers on obesity\n",
    "plt.scatter(top_hundred['obesity'], top_hundred['mental_health'], label='mental_health')\n",
    "plt.xlabel('obesity rate')\n",
    "plt.ylabel('mental health providers rate')\n",
    "plt.figure(figsize=(8, 6))"
   ]
  },
  {
   "cell_type": "markdown",
   "metadata": {},
   "source": [
    "Lastly, we compare obesity rates to long commutes afrom work alone. It seems that the counties with 10%-50% of people who have a long commute home from work, mostly have the lowest rate of obesity ranging from 40% to 44%. The percentage of people in a county that have a long commute does not effect obesity, but overall if a person has a long commute from work to home they are more likely to not be obese."
   ]
  },
  {
   "cell_type": "code",
   "execution_count": 21,
   "metadata": {
    "collapsed": true
   },
   "outputs": [
    {
     "data": {
      "text/plain": [
       "<Figure size 576x432 with 0 Axes>"
      ]
     },
     "execution_count": 21,
     "metadata": {},
     "output_type": "execute_result"
    },
    {
     "data": {
      "image/png": "[encoded data removed]",
      "text/plain": [
       "<Figure size 432x288 with 1 Axes>"
      ]
     },
     "metadata": {},
     "output_type": "display_data"
    },
    {
     "data": {
      "text/plain": [
       "<Figure size 576x432 with 0 Axes>"
      ]
     },
     "metadata": {},
     "output_type": "display_data"
    }
   ],
   "source": [
    "#seeing the affects of a long commute from work alone on obesity\n",
    "plt.scatter(top_hundred['obesity'], top_hundred['long_commute'], label='long_commute', color=\"darkgreen\")\n",
    "plt.xlabel('obesity rate')\n",
    "plt.ylabel('long commute from home rate')\n",
    "plt.figure(figsize=(8, 6))"
   ]
  },
  {
   "cell_type": "markdown",
   "metadata": {},
   "source": [
    "From our visual intuition, we did not find significant relationships that we can model these feature. From the discussion of real-life understanding, we all sugguest that there may be a linear relationship between these 3 features and obeisty. Next, we are going to look at a linear regression chart to see the calculated relationship between obesity and our other variables by looking at the p-value. If p-value < 0.5 it is significant, otherwise no significant relationship."
   ]
  },
  {
   "cell_type": "code",
   "execution_count": 22,
   "metadata": {
    "collapsed": true
   },
   "outputs": [
    {
     "name": "stdout",
     "output_type": "stream",
     "text": [
      "                            OLS Regression Results                            \n",
      "==============================================================================\n",
      "Dep. Variable:                obesity   R-squared:                       0.165\n",
      "Model:                            OLS   Adj. R-squared:                  0.157\n",
      "Method:                 Least Squares   F-statistic:                     19.41\n",
      "Date:                Wed, 01 Jun 2022   Prob (F-statistic):           2.69e-05\n",
      "Time:                        19:27:53   Log-Likelihood:                 270.20\n",
      "No. Observations:                 100   AIC:                            -536.4\n",
      "Df Residuals:                      98   BIC:                            -531.2\n",
      "Df Model:                           1                                         \n",
      "Covariance Type:            nonrobust                                         \n",
      "==============================================================================\n",
      "                 coef    std err          t      P>|t|      [0.025      0.975]\n",
      "------------------------------------------------------------------------------\n",
      "Intercept      0.4522      0.008     56.185      0.000       0.436       0.468\n",
      "income     -9.457e-07   2.15e-07     -4.406      0.000   -1.37e-06    -5.2e-07\n",
      "==============================================================================\n",
      "Omnibus:                       34.924   Durbin-Watson:                   0.333\n",
      "Prob(Omnibus):                  0.000   Jarque-Bera (JB):               64.302\n",
      "Skew:                           1.448   Prob(JB):                     1.09e-14\n",
      "Kurtosis:                       5.655   Cond. No.                     1.84e+05\n",
      "==============================================================================\n",
      "\n",
      "Notes:\n",
      "[1] Standard Errors assume that the covariance matrix of the errors is correctly specified.\n",
      "[2] The condition number is large, 1.84e+05. This might indicate that there are\n",
      "strong multicollinearity or other numerical problems.\n"
     ]
    }
   ],
   "source": [
    "y, x = patsy.dmatrices(\"obesity ~ income\", top_hundred)\n",
    "mod = sm.OLS(y, x)\n",
    "res_1 = mod.fit() \n",
    "print(res_1.summary())"
   ]
  },
  {
   "cell_type": "markdown",
   "metadata": {},
   "source": [
    "Since the p-value here is less than 0.5 it is significant. In other words, there is a relationship between obesity and income as we predicted."
   ]
  },
  {
   "cell_type": "code",
   "execution_count": 23,
   "metadata": {
    "collapsed": true
   },
   "outputs": [
    {
     "name": "stdout",
     "output_type": "stream",
     "text": [
      "                            OLS Regression Results                            \n",
      "==============================================================================\n",
      "Dep. Variable:                obesity   R-squared:                       0.002\n",
      "Model:                            OLS   Adj. R-squared:                 -0.008\n",
      "Method:                 Least Squares   F-statistic:                    0.2166\n",
      "Date:                Wed, 01 Jun 2022   Prob (F-statistic):              0.643\n",
      "Time:                        19:27:53   Log-Likelihood:                 261.27\n",
      "No. Observations:                 100   AIC:                            -518.5\n",
      "Df Residuals:                      98   BIC:                            -513.3\n",
      "Df Model:                           1                                         \n",
      "Covariance Type:            nonrobust                                         \n",
      "=================================================================================\n",
      "                    coef    std err          t      P>|t|      [0.025      0.975]\n",
      "---------------------------------------------------------------------------------\n",
      "Intercept         0.4181      0.002    181.927      0.000       0.414       0.423\n",
      "mental_health    -0.5023      1.079     -0.465      0.643      -2.644       1.639\n",
      "==============================================================================\n",
      "Omnibus:                       41.601   Durbin-Watson:                   0.030\n",
      "Prob(Omnibus):                  0.000   Jarque-Bera (JB):               89.082\n",
      "Skew:                           1.642   Prob(JB):                     4.53e-20\n",
      "Kurtosis:                       6.255   Cond. No.                         602.\n",
      "==============================================================================\n",
      "\n",
      "Notes:\n",
      "[1] Standard Errors assume that the covariance matrix of the errors is correctly specified.\n"
     ]
    }
   ],
   "source": [
    "y, x = patsy.dmatrices(\"obesity ~ mental_health\", top_hundred)\n",
    "mod = sm.OLS(y, x)\n",
    "res_1 = mod.fit() \n",
    "print(res_1.summary())"
   ]
  },
  {
   "cell_type": "markdown",
   "metadata": {},
   "source": [
    "Since the p-value here is greater than 0.5 it is not significant. In other words, there is not a significant relationship between obesity and mental health providers, which opposes our hypothesis."
   ]
  },
  {
   "cell_type": "code",
   "execution_count": 24,
   "metadata": {
    "collapsed": true
   },
   "outputs": [
    {
     "name": "stdout",
     "output_type": "stream",
     "text": [
      "                            OLS Regression Results                            \n",
      "==============================================================================\n",
      "Dep. Variable:                obesity   R-squared:                       0.002\n",
      "Model:                            OLS   Adj. R-squared:                 -0.008\n",
      "Method:                 Least Squares   F-statistic:                    0.2247\n",
      "Date:                Wed, 01 Jun 2022   Prob (F-statistic):              0.637\n",
      "Time:                        19:27:53   Log-Likelihood:                 261.28\n",
      "No. Observations:                 100   AIC:                            -518.6\n",
      "Df Residuals:                      98   BIC:                            -513.3\n",
      "Df Model:                           1                                         \n",
      "Covariance Type:            nonrobust                                         \n",
      "================================================================================\n",
      "                   coef    std err          t      P>|t|      [0.025      0.975]\n",
      "--------------------------------------------------------------------------------\n",
      "Intercept        0.4147      0.006     68.817      0.000       0.403       0.427\n",
      "long_commute     0.0080      0.017      0.474      0.637      -0.026       0.042\n",
      "==============================================================================\n",
      "Omnibus:                       42.632   Durbin-Watson:                   0.032\n",
      "Prob(Omnibus):                  0.000   Jarque-Bera (JB):               93.408\n",
      "Skew:                           1.673   Prob(JB):                     5.21e-21\n",
      "Kurtosis:                       6.351   Cond. No.                         10.6\n",
      "==============================================================================\n",
      "\n",
      "Notes:\n",
      "[1] Standard Errors assume that the covariance matrix of the errors is correctly specified.\n"
     ]
    }
   ],
   "source": [
    "y, x = patsy.dmatrices(\"obesity ~ long_commute\", top_hundred)\n",
    "mod = sm.OLS(y, x)\n",
    "res_1 = mod.fit() \n",
    "print(res_1.summary())"
   ]
  },
  {
   "cell_type": "markdown",
   "metadata": {},
   "source": [
    "Since the p-value here is also greater than 0.5 it is not significant. In other words, there is not a significant relationship between obesity and a long commute from work to home, which also opposes our hypothesis."
   ]
  },
  {
   "cell_type": "code",
   "execution_count": 25,
   "metadata": {
    "collapsed": true
   },
   "outputs": [
    {
     "name": "stdout",
     "output_type": "stream",
     "text": [
      "                            OLS Regression Results                            \n",
      "==============================================================================\n",
      "Dep. Variable:                obesity   R-squared:                       0.171\n",
      "Model:                            OLS   Adj. R-squared:                  0.145\n",
      "Method:                 Least Squares   F-statistic:                     6.616\n",
      "Date:                Wed, 01 Jun 2022   Prob (F-statistic):           0.000413\n",
      "Time:                        19:27:53   Log-Likelihood:                 270.56\n",
      "No. Observations:                 100   AIC:                            -533.1\n",
      "Df Residuals:                      96   BIC:                            -522.7\n",
      "Df Model:                           3                                         \n",
      "Covariance Type:            nonrobust                                         \n",
      "=================================================================================\n",
      "                    coef    std err          t      P>|t|      [0.025      0.975]\n",
      "---------------------------------------------------------------------------------\n",
      "Intercept         0.4579      0.011     40.379      0.000       0.435       0.480\n",
      "income        -9.801e-07   2.22e-07     -4.407      0.000   -1.42e-06   -5.39e-07\n",
      "mental_health    -0.6736      1.019     -0.661      0.510      -2.696       1.348\n",
      "long_commute     -0.0105      0.016     -0.639      0.524      -0.043       0.022\n",
      "==============================================================================\n",
      "Omnibus:                       33.516   Durbin-Watson:                   0.337\n",
      "Prob(Omnibus):                  0.000   Jarque-Bera (JB):               59.981\n",
      "Skew:                           1.404   Prob(JB):                     9.44e-14\n",
      "Kurtosis:                       5.552   Cond. No.                     2.31e+07\n",
      "==============================================================================\n",
      "\n",
      "Notes:\n",
      "[1] Standard Errors assume that the covariance matrix of the errors is correctly specified.\n",
      "[2] The condition number is large, 2.31e+07. This might indicate that there are\n",
      "strong multicollinearity or other numerical problems.\n"
     ]
    }
   ],
   "source": [
    "y, x = patsy.dmatrices(\"obesity ~ income + mental_health + long_commute\", top_hundred)\n",
    "mod = sm.OLS(y, x)\n",
    "res_1 = mod.fit() \n",
    "print(res_1.summary())"
   ]
  },
  {
   "cell_type": "markdown",
   "metadata": {},
   "source": [
    "For all of our variables (income, mental health providers, and long commuter), when looking at the coeficient, we can see that there is a negative linear relationship between obesity and the other variables. This also shows that mental health providers and long commute does not have as much affect on obesity like income does.\n",
    "\n",
    "For mental health providers and long commuters, we see that their confidence intervals contain 0. This means that if we run our experiment multiple times, our results will remain consistent. Still looking at the confidence interval, we can also note that income does get very close to 0, so there is a high chance that it will also stay consistent."
   ]
  },
  {
   "cell_type": "markdown",
   "metadata": {},
   "source": [
    "# Ethics & Privacy"
   ]
  },
  {
   "cell_type": "markdown",
   "metadata": {},
   "source": [
    "As college students, we are aware of what obesity is and what factors can lead to it. The factors we chose are less obvious than the usual to preserve interest but they still correlate to obesity in some way.\n",
    "\n",
    "The information gained from this data is public so we have permission to download it and use it.\n",
    "We are aware that the information can cause a negative tint on certain areas in the United States based on the results we get, but that is dependent on the reader of the data we convey. \n",
    "The information that we will gain will not be co-opted for nefarious purposes since our prediction would only tell the correlation between obesity and other factories, and the information will not promote misinformation and hate speech as such.\n",
    "\n",
    "We have one consistent data set from a credible source that documents national health rankings in the United States every year. For each variable we are looking at – obesity, income, mental health providers, and long commute – there are 3000+ counties throughout the United States to grab that information from.\n",
    "\n",
    "Some bias that may be in our data is what is considered a “long commute” to the folks who collected this data because we don’t know the time span on that and/or if “long” is subjective to the researcher or the person being asked. Another bias can also be who exactly was interviewed in these counties because we don’t know if a certain group of people were targeted or how much effort was put in to reduce bias when collecting data. For example, this information could have been collected via mail or electronically and that can already eliminate or reduce the data we would get from people without homes or access to the internet.\n",
    "\n",
    "The dataset is public so we can use it and individual information is not included in the dataset. All volunteers in this data will remain anonymous, and are informed about the participated research. Each entry is by county, not person, so personal information is not used.\n",
    "\n",
    "Based on the relationship we find between the three factors and obesity, we will further analyze possible reasons of why that factor may have led to obesity and how that issue can be resolved moving forward. Our research does not only rely on one single factor, but with multiple factors so we would get a more accurate research analysis. We will be using statistical models from class to verify the effect the factors have on obesity. \n"
   ]
  },
  {
   "cell_type": "markdown",
   "metadata": {},
   "source": [
    "# Conclusion & Discussion"
   ]
  },
  {
   "cell_type": "markdown",
   "metadata": {},
   "source": [
    "**Hypothesis Analysis:**\n",
    "\n",
    "- In response to our hypothesis, the counties with a higher income are not in the higher obesity range. Furthermore,with p-value < 0.5 in our linear regression model, we reject the null hypothesis. This means that there is a relationship between obesity and income as we predicted. \n",
    "- If a county has mental health providers available, the rate of obesity is low. However, we also consider that there are not a lot of mental health providers. According to the linear regression result, since the p-value here is greater than 0.5, we accept the null hypothesis. In other words, there is not a significant relationship between obesity and mental health providers.\n",
    "- In the same sense, if a county has a long commute from work to home, they are more likely to not be obese. Since the p-value for our linear regression model here is also greater than 0.5, we accept the null hypothesis. In other words, there is not a significant relationship between obesity and a long commute from work to home, which also opposes our hypothesis.\n",
    "\n",
    "**Conclusion:**\n",
    "\n",
    "- After doing an analysis on obesity and our three factors, we found that out of income rates, mental health providers, and long commutes from work alone, income rates have the most significant effect on the counties in America with the top 100 highest obesity levels. When analyzing the relationship between obesity and income we found that people who have a higher income, are not in the higher obesity range at all. Therefore, having a higher income seems to lower the risk of being obese. Which unfortunately, in our economy, makes sense; People with more income have access to healthier food options, more fit exercise options, and more time to focus on their physical well-being. This is not to say that mental health providers and long commutes home do not have an effect on obesity at all, this just shows that if we were to focus on the top influencing factor out of the 3, it would be income. \n",
    "\n",
    "**Limitations/Bias:**\n",
    "\n",
    "- Our data is from 2019, the time we think there exist no significant events that have an extreme influence on people's physical health(data before 2018 is too old, and data in 2020 of health may be biased due to covid-19). The time window is fixed for our data, so if we prefer to have a time-observation analysis, it's better to provide long-term data without external extreme turbulence. Furthermore, we applied linear regression in our model, which assumes that there is no multicollinearity among independent variables. We did not explain multicollinearity comprehensively. Also, when we pick our factors, we think it is appropriate to limit the number of factors to prevent over-fit. Additionally, one limitation is that obesity is performed as a ratio. We did not explore the exact quantitive definition for obesity: for instance, people with a height of 180cm has more than 100kg are defined as obese. This is a little far from our work since we focus on the general distribution, but we can work on it in the future to classify obesity into more detailed categories. At last, we applied linear regression since we think this fits best for our factors. We still have to admit that if these factors are in a non-linear relationship, the model will have poor performance. The project advisor and the group both think the SVM can be implemented in the future, which will be addressed more in the future improvement. \n",
    "\n",
    "**Future Improvement:**\n",
    "- With this project, we were able to find a linear relationship between income and obesity rates in a county. However, we found there wasn’t a significant relation between obesity and the other two factors based on the models we tried out for the purpose of this project. Future students could continue with the work of exploring different models such as SVM. Obesity could be categorized into several groups based on how critical an obese person’s condition is in order to be used for the model. Some of the categories could be low-risk obesity, moderate-risk obesity and high-risk obesity. With the model, students could try and figure out the tendency of a person becoming obese given the mental health provider information, the commute time and the income level of the person. Additionally, future students could try and explore relationships between the three factors (mental health providers, long commutes and income levels) and see if there’s a relation between any of these three factors.\n",
    "\n",
    "**Real Life Suggestions:**\n",
    "- We learned that there is a negative relationship between obesity and income, and this can imply that people with lower income should look out for their health. They should monitor their weight regularly, and have annual check up with their providers because our analysis has shown that they can be more likely to have higher obesity rate. Moreover, since we did not find any significant between obesity and long commute and mental health providers. We suggest that long commute and mental health providers a person has do not cause higher obesity rate. At this point of our analysis, we do not see these two factors having a huge impact on obesity rate. People should not worry too much on their weight when they long commute  often or do not have mental health providers. We hope that our study can help people to be more aware of their health and understand that there exists many other factors that can lead to obesity."
   ]
  },
  {
   "cell_type": "markdown",
   "metadata": {},
   "source": [
    "## Contributions"
   ]
  },
  {
   "cell_type": "markdown",
   "metadata": {},
   "source": [
    "We all contributed to the project proposal. We then collected and narrowed down the data, as well as cleaned it. We also all worked through the EDA section and completed the conclusion. More specifically, Joon Cha was responsible for the hypothesis test and analysis. Jaida Day implemented everything into the Jupyter notebook and along with Yunyi She, worked on the Ethics section. Yunyi also worked on the real life suggestions portion of the conclusion. Lastly, Ayushi Sharma and Ziyu Wang worked on the background portion. Ayushi also worked on the future improvements portion. Ziyu Wang also worked deeper on the cleaning data portion, the limitations/bias section, and the finalizing of project report and proofreading. \n",
    "\n",
    "Overall, we have a really good team. Everyone did a great job at communicating, working together, and putting in the effort to get things done in a timely manner.\n",
    "\n",
    "Thanks for reading."
   ]
  }
 ],
 "metadata": {
  "interpreter": {
   "hash": "88279d2366fe020547cde40dd65aa0e3aa662a6ec1f3ca12d88834876c85e1a6"
  },
  "kernelspec": {
   "display_name": "Python 3 (ipykernel)",
   "language": "python",
   "name": "python3"
  },
  "language_info": {
   "codemirror_mode": {
    "name": "ipython",
    "version": 3
   },
   "file_extension": ".py",
   "mimetype": "text/x-python",
   "name": "python",
   "nbconvert_exporter": "python",
   "pygments_lexer": "ipython3",
   "version": "3.10.2"
  }
 },
 "nbformat": 4,
 "nbformat_minor": 2
}
